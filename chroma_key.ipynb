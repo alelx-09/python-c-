{
 "cells": [
  {
   "cell_type": "markdown",
   "metadata": {},
   "source": [
    "# Chroma Key Project"
   ]
  },
  {
   "cell_type": "markdown",
   "metadata": {},
   "source": [
    "This project is isolating the green background from a video and replace it with a background. It depends on transforming the image into the HSV space and then user thresholding for best possible results."
   ]
  },
  {
   "cell_type": "markdown",
   "metadata": {},
   "source": [
    "### Importing libraries:"
   ]
  },
  {
   "cell_type": "code",
   "execution_count": 1,
   "metadata": {},
   "outputs": [],
   "source": [
    "import matplotlib.pyplot as plt\n",
    "import numpy as np\n",
    "import cv2"
   ]
  },
  {
   "cell_type": "code",
   "execution_count": 2,
   "metadata": {},
   "outputs": [],
   "source": [
    "def remove_and_add(objects, bg, mask_lower, mask_higher):\n",
    "    height, width, channels = objects.shape\n",
    "\n",
    "    bg_cropped = cv2.resize(bg, (width, height))\n",
    "\n",
    "    objects_hsv = cv2.cvtColor(objects, cv2.COLOR_RGB2HSV)\n",
    "\n",
    "    objects_mask = cv2.inRange(objects_hsv, mask_lower, mask_higher)\n",
    "\n",
    "    kernel = np.ones((3,3),np.uint8)\n",
    "\n",
    "    objects_mask = cv2.erode(objects_mask,kernel,iterations = 1)\n",
    "    objects_mask = cv2.blur(objects_mask,(15,15))\n",
    "    \n",
    "    condition = (objects_mask < 100)\n",
    "    masked_objects = np.copy(objects)\n",
    "    masked_objects[condition] = [0, 0, 0]\n",
    "\n",
    "    bg_masked = np.copy(bg_cropped)\n",
    "    bg_masked[~condition] = [0,0,0]\n",
    "\n",
    "    full_picture = bg_masked + masked_objects\n",
    "\n",
    "    return full_picture"
   ]
  },
  {
   "cell_type": "markdown",
   "metadata": {},
   "source": [
    "# Threshold Setting:"
   ]
  },
  {
   "cell_type": "markdown",
   "metadata": {},
   "source": [
    "First off, we select a random frame from the video, let's say the frame number 100. We will perform the thresholding on this frame."
   ]
  },
  {
   "cell_type": "code",
   "execution_count": 4,
   "metadata": {},
   "outputs": [
    {
     "ename": "error",
     "evalue": "OpenCV(3.4.1) C:\\projects\\opencv-python\\opencv\\modules\\imgproc\\src\\color.cpp:11115: error: (-215) scn == 3 || scn == 4 in function cv::cvtColor\n",
     "output_type": "error",
     "traceback": [
      "\u001b[1;31m---------------------------------------------------------------------------\u001b[0m",
      "\u001b[1;31merror\u001b[0m                                     Traceback (most recent call last)",
      "\u001b[1;32m<ipython-input-4-f056ba55a809>\u001b[0m in \u001b[0;36m<module>\u001b[1;34m()\u001b[0m\n\u001b[0;32m     12\u001b[0m \u001b[0mret\u001b[0m\u001b[1;33m,\u001b[0m \u001b[0mframe\u001b[0m \u001b[1;33m=\u001b[0m \u001b[0mcap\u001b[0m\u001b[1;33m.\u001b[0m\u001b[0mread\u001b[0m\u001b[1;33m(\u001b[0m\u001b[1;33m)\u001b[0m\u001b[1;33m\u001b[0m\u001b[0m\n\u001b[0;32m     13\u001b[0m \u001b[1;33m\u001b[0m\u001b[0m\n\u001b[1;32m---> 14\u001b[1;33m \u001b[0mframe_corrected\u001b[0m \u001b[1;33m=\u001b[0m \u001b[0mcv2\u001b[0m\u001b[1;33m.\u001b[0m\u001b[0mcvtColor\u001b[0m\u001b[1;33m(\u001b[0m\u001b[0mframe\u001b[0m\u001b[1;33m,\u001b[0m\u001b[0mcv2\u001b[0m\u001b[1;33m.\u001b[0m\u001b[0mCOLOR_BGR2RGB\u001b[0m\u001b[1;33m)\u001b[0m\u001b[1;33m\u001b[0m\u001b[0m\n\u001b[0m\u001b[0;32m     15\u001b[0m \u001b[1;33m\u001b[0m\u001b[0m\n\u001b[0;32m     16\u001b[0m \u001b[0mprint\u001b[0m\u001b[1;33m(\u001b[0m\u001b[1;34m\"Frame Shape: \"\u001b[0m\u001b[1;33m,\u001b[0m \u001b[0mframe_corrected\u001b[0m\u001b[1;33m.\u001b[0m\u001b[0mshape\u001b[0m\u001b[1;33m)\u001b[0m\u001b[1;33m\u001b[0m\u001b[0m\n",
      "\u001b[1;31merror\u001b[0m: OpenCV(3.4.1) C:\\projects\\opencv-python\\opencv\\modules\\imgproc\\src\\color.cpp:11115: error: (-215) scn == 3 || scn == 4 in function cv::cvtColor\n"
     ]
    }
   ],
   "source": [
    "myFrameNumber = 100\n",
    "cap = cv2.VideoCapture(\"Desktop/video.mp4\")\n",
    "\n",
    "# get total number of frames\n",
    "totalFrames = cap.get(cv2.CAP_PROP_FRAME_COUNT)\n",
    "\n",
    "# check for valid frame number\n",
    "if myFrameNumber >= 0 & myFrameNumber <= totalFrames:\n",
    "    # set frame position\n",
    "    cap.set(cv2.CAP_PROP_POS_FRAMES,myFrameNumber)\n",
    "\n",
    "ret, frame = cap.read()\n",
    "\n",
    "frame_corrected = cv2.cvtColor(frame,cv2.COLOR_BGR2RGB)\n",
    "\n",
    "print(\"Frame Shape: \", frame_corrected.shape)\n",
    "plt.imshow(frame_corrected)\n",
    "plt.show()"
   ]
  },
  {
   "cell_type": "markdown",
   "metadata": {},
   "source": [
    "Now let's perform thresholding by outputting trackbar for the user to select the best settings."
   ]
  },
  {
   "cell_type": "code",
   "execution_count": null,
   "metadata": {},
   "outputs": [],
   "source": [
    "def nothing(x):\n",
    "    pass\n",
    "\n",
    "# Create a black image, a window\n",
    "cv2.namedWindow('image')\n",
    "\n",
    "# create trackbars for color change\n",
    "cv2.createTrackbar('H1','image',0,255,nothing)\n",
    "cv2.setTrackbarPos('H1', 'image', 0)\n",
    "\n",
    "cv2.createTrackbar('H2','image',0,255,nothing)\n",
    "cv2.setTrackbarPos('H2', 'image', 255)\n",
    "\n",
    "cv2.createTrackbar('S1','image',0,255,nothing)\n",
    "cv2.setTrackbarPos('S1', 'image', 0)\n",
    "\n",
    "cv2.createTrackbar('S2','image',0,255,nothing)\n",
    "cv2.setTrackbarPos('S2', 'image', 255)\n",
    "\n",
    "cv2.createTrackbar('V1','image',0,255,nothing)\n",
    "cv2.setTrackbarPos('V1', 'image', 0)\n",
    "\n",
    "cv2.createTrackbar('V2','image',0,255,nothing)\n",
    "cv2.setTrackbarPos('V2', 'image', 255)\n",
    "\n",
    "\n",
    "while(1):\n",
    "    k = cv2.waitKey(1) & 0xFF # escape to close\n",
    "    if k == 27:\n",
    "        break    \n",
    "\n",
    "    frame_hsv = cv2.cvtColor(frame, cv2.COLOR_RGB2HSV)\n",
    "\n",
    "    h = frame_hsv[:, :, 0]\n",
    "    s = frame_hsv[:, :, 1]\n",
    "    v = frame_hsv[:, :, 2]\n",
    "    \n",
    "    # get current positions of four trackbars\n",
    "    h1 = cv2.getTrackbarPos('H1','image')\n",
    "    h2 = cv2.getTrackbarPos('H2','image')\n",
    "\n",
    "    s1 = cv2.getTrackbarPos('S1','image')\n",
    "    s2 = cv2.getTrackbarPos('S2','image')\n",
    "\n",
    "    v1 = cv2.getTrackbarPos('V1','image')\n",
    "    v2 = cv2.getTrackbarPos('V2','image')\n",
    "\n",
    "\n",
    "    mask_lower = np.array([h1, s1, v1])\n",
    "    mask_higher = np.array([h2, s2, v2])\n",
    "    \n",
    "    frame_out = cv2.inRange(frame_hsv, mask_lower, mask_higher)\n",
    "\n",
    "    bg_masked = np.copy(frame)\n",
    "    bg_masked[frame_out == 0] = [0,0,0]\n",
    "\n",
    "    cv2.imshow('image',bg_masked)\n",
    "\n",
    "cv2.destroyAllWindows()"
   ]
  },
  {
   "cell_type": "markdown",
   "metadata": {},
   "source": [
    "The threshold values are:"
   ]
  },
  {
   "cell_type": "code",
   "execution_count": null,
   "metadata": {},
   "outputs": [],
   "source": [
    "mask_lower"
   ]
  },
  {
   "cell_type": "code",
   "execution_count": null,
   "metadata": {},
   "outputs": [],
   "source": [
    "mask_higher"
   ]
  },
  {
   "cell_type": "markdown",
   "metadata": {},
   "source": [
    "## Run the filter across all frames of the video:"
   ]
  },
  {
   "cell_type": "code",
   "execution_count": null,
   "metadata": {},
   "outputs": [],
   "source": [
    "import numpy as np\n",
    "import cv2\n",
    "\n",
    "## opening videocapture\n",
    "cap = cv2.VideoCapture('Desktop/chroma_key/chroma_key/video.mp4')\n",
    "\n",
    "## some videowriter props\n",
    "sz = (int(cap.get(cv2.CAP_PROP_FRAME_WIDTH)),\n",
    "        int(cap.get(cv2.CAP_PROP_FRAME_HEIGHT)))\n",
    "fps = 20\n",
    "fourcc = cv2.VideoWriter_fourcc(*'mpeg') \n",
    "\n",
    "## open and set props\n",
    "vout = cv2.VideoWriter()\n",
    "vout.open('output.mp4',fourcc,fps,sz,True)\n",
    "\n",
    "# background:\n",
    "bg = cv2.imread('bg.jpeg')\n",
    "\n",
    "while True:\n",
    "    ret, frame = cap.read()\n",
    "    if not ret:\n",
    "        break\n",
    "\n",
    "    mask_lower = np.array([h1, s1, v1])\n",
    "    mask_higher = np.array([h2, s2, v2])\n",
    "\n",
    "    frame = remove_and_add(frame, bg, mask_lower, mask_higher)\n",
    "    vout.write(frame) \n",
    "\n",
    "    cv2.imshow('frame', frame)\n",
    "\n",
    "    k = cv2.waitKey(1) & 0xFF # escape to close\n",
    "    if k == 27:\n",
    "        break\n",
    "\n",
    "cap.release()\n",
    "vout.release()\n",
    "\n",
    "cv2.destroyAllWindows()"
   ]
  }
 ],
 "metadata": {
  "kernelspec": {
   "display_name": "Python 3",
   "language": "python",
   "name": "python3"
  },
  "language_info": {
   "codemirror_mode": {
    "name": "ipython",
    "version": 3
   },
   "file_extension": ".py",
   "mimetype": "text/x-python",
   "name": "python",
   "nbconvert_exporter": "python",
   "pygments_lexer": "ipython3",
   "version": "3.6.4"
  }
 },
 "nbformat": 4,
 "nbformat_minor": 2
}
