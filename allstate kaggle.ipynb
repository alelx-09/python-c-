{
 "cells": [
  {
   "cell_type": "code",
   "execution_count": 10,
   "metadata": {},
   "outputs": [],
   "source": [
    "import os\n",
    "import numpy as np \n",
    "from PIL import Image \n",
    "import seaborn as sns\n",
    "import matplotlib.pyplot as plt\n",
    "import cv2\n",
    "from keras.models import load_model\n"
   ]
  },
  {
   "cell_type": "code",
   "execution_count": 11,
   "metadata": {
    "collapsed": true
   },
   "outputs": [],
   "source": [
    "#a refrence to all the floders including root\n",
    "rootdir=\"Desktop/statefarm1/train/\""
   ]
  },
  {
   "cell_type": "code",
   "execution_count": 12,
   "metadata": {
    "collapsed": true
   },
   "outputs": [],
   "source": [
    "from keras.models import Sequential\n",
    "from keras.layers import Input, Dropout, Flatten, Convolution2D, MaxPooling2D, Dense, Activation\n",
    "from keras.optimizers import RMSprop\n",
    "from keras.callbacks import ModelCheckpoint, Callback, EarlyStopping\n",
    "from keras.utils import np_utils\n",
    "from keras.preprocessing.image import ImageDataGenerator"
   ]
  },
  {
   "cell_type": "code",
   "execution_count": 13,
   "metadata": {},
   "outputs": [
    {
     "name": "stdout",
     "output_type": "stream",
     "text": [
      "10 folders with the data \n",
      "\n",
      "the first folder contains 2489 pictures\n",
      "the second folder contains 2267 pictures\n",
      "the third folder contains 2317 pictures\n",
      "the fourth folder contains 2346 pictures\n",
      "the fifth folder contains 2326 pictures\n",
      "the sixth folder contains 2312 pictures\n",
      "the seventh folder contains 2325 pictures\n",
      "the eight folder contains 2002 pictures\n",
      "the nineth folder contains 1911 pictures\n",
      "the tenthfolder contains 2129 pictures\n"
     ]
    }
   ],
   "source": [
    "foldrs =(len(os.listdir(rootdir)))\n",
    "print(str(foldrs) + \" folders with the data \\n\")\n",
    "\n",
    "f0= len(os.listdir(\"Desktop/statefarm1/train/c0/\"))\n",
    "f1= len(os.listdir(\"Desktop/statefarm1/train/c1/\"))\n",
    "f2= len(os.listdir(\"Desktop/statefarm1/train/c2/\"))\n",
    "f3= len(os.listdir(\"Desktop/statefarm1/train/c3\"))\n",
    "f4= len(os.listdir(\"Desktop/statefarm1/train/c4/\"))\n",
    "f5= len(os.listdir(\"Desktop/statefarm1/train/c5/\"))\n",
    "f6= len(os.listdir(\"Desktop/statefarm1/train/c6/\"))\n",
    "f7= len(os.listdir(\"Desktop/statefarm1/train/c7/\"))\n",
    "f8= len(os.listdir(\"Desktop/statefarm1/train/c8/\"))\n",
    "f9= len(os.listdir(\"Desktop/statefarm1/train/c9/\"))\n",
    "\n",
    "print(\"the first folder contains \"+ str(f0) +\" pictures\")\n",
    "print(\"the second folder contains \"+ str(f1) +\" pictures\")\n",
    "print(\"the third folder contains \"+ str(f2) +\" pictures\")\n",
    "print(\"the fourth folder contains \"+ str(f3) +\" pictures\")\n",
    "print(\"the fifth folder contains \"+ str(f4) +\" pictures\")\n",
    "print(\"the sixth folder contains \"+ str(f5) +\" pictures\")\n",
    "print(\"the seventh folder contains \"+ str(f6) +\" pictures\")\n",
    "print(\"the eight folder contains \"+ str(f7) +\" pictures\")\n",
    "print(\"the nineth folder contains \"+ str(f8) +\" pictures\")\n",
    "print(\"the tenthfolder contains \"+ str(f9) +\" pictures\")"
   ]
  },
  {
   "cell_type": "code",
   "execution_count": 14,
   "metadata": {
    "collapsed": true
   },
   "outputs": [],
   "source": [
    "\n",
    "\n",
    "\n",
    "def create_new_dir():\n",
    "    \n",
    "    if not os.path.exists('Desktop/trainstate'):\n",
    "        os.mkdir('Desktop/trainstate')\n",
    "        \n",
    "create_new_dir()"
   ]
  },
  {
   "cell_type": "markdown",
   "metadata": {
    "collapsed": true
   },
   "source": [
    "import os\n",
    "import shutil\n",
    "\n",
    "src = 'Desktop/statefarm1/train/'\n",
    "dest = 'Desktop/trainstate'\n",
    "\n",
    "for path, subdirs, files in os.walk(src):\n",
    "    for name in files:\n",
    "        filename = os.path.join(path, name)\n",
    "        shutil.copy(filename, dest)\n",
    "#in pictures folder sort by date and decending!!!!!!!!!!!"
   ]
  },
  {
   "cell_type": "code",
   "execution_count": 15,
   "metadata": {
    "collapsed": true
   },
   "outputs": [],
   "source": [
    "train_dir = 'Desktop/trainstate/'"
   ]
  },
  {
   "cell_type": "code",
   "execution_count": 16,
   "metadata": {
    "collapsed": true
   },
   "outputs": [],
   "source": [
    "size=150\n",
    "chan = 3\n",
    "num_pics = len(os.listdir(train_dir))\n"
   ]
  },
  {
   "cell_type": "code",
   "execution_count": 17,
   "metadata": {},
   "outputs": [
    {
     "data": {
      "text/plain": [
       "22424"
      ]
     },
     "execution_count": 17,
     "metadata": {},
     "output_type": "execute_result"
    }
   ],
   "source": [
    "num_pics"
   ]
  },
  {
   "cell_type": "code",
   "execution_count": 18,
   "metadata": {},
   "outputs": [],
   "source": [
    "for i, im in enumerate(os.listdir(train_dir)):\n",
    "    \n",
    "    data= np.ndarray([num_pics, size, size ,chan])\n",
    "    img = Image.open(train_dir+ im)\n",
    "    im_resize= img.resize((size,size),Image.ANTIALIAS)\n",
    "    im_array= np.array(im_resize)\n",
    "    im_normal = im_array-(255.0/2)/255.0\n",
    "    data[i,:,:,:]= im_normal.reshape(-1,size,size,chan)\n",
    "    X_train= data"
   ]
  },
  {
   "cell_type": "code",
   "execution_count": 19,
   "metadata": {},
   "outputs": [
    {
     "name": "stdout",
     "output_type": "stream",
     "text": [
      "there are 22424 preproccesd pictures\n"
     ]
    }
   ],
   "source": [
    "l=len(X_train)\n",
    "print(\"there are \" + str(l) + \" preproccesd pictures\")"
   ]
  },
  {
   "cell_type": "code",
   "execution_count": 20,
   "metadata": {
    "collapsed": true
   },
   "outputs": [],
   "source": [
    "la= []\n",
    "for pic in enumerate(os.listdir(\"Desktop/statefarm1/train/c0/\")):\n",
    "    la.append(9)\n",
    "for pic in enumerate( os.listdir(\"Desktop/statefarm1/train/c1/\")):\n",
    "    la.append(8)\n",
    "for pic in enumerate( os.listdir(\"Desktop/statefarm1/train/c2/\")):\n",
    "    la.append(7)\n",
    "for pic in enumerate(os.listdir(\"Desktop/statefarm1/train/c3/\")):\n",
    "    la.append(6)\n",
    "for pic in enumerate(os.listdir(\"Desktop/statefarm1/train/c4/\")):\n",
    "    la.append(5)\n",
    "for pic in enumerate(os.listdir(\"Desktop/statefarm1/train/c5/\")):\n",
    "    la.append(4)\n",
    "for pic in enumerate(os.listdir(\"Desktop/statefarm1/train/c6/\")):\n",
    "    la.append(3)\n",
    "for pic in enumerate (os.listdir(\"Desktop/statefarm1/train/c7/\")):\n",
    "    la.append(2)\n",
    "for pic in enumerate(os.listdir(\"Desktop/statefarm1/train/c8/\")):\n",
    "    la.append(1)\n",
    "for pic in enumerate(os.listdir(\"Desktop/statefarm1/train/c9/\")):\n",
    "    la.append(0)\n"
   ]
  },
  {
   "cell_type": "code",
   "execution_count": 21,
   "metadata": {},
   "outputs": [
    {
     "data": {
      "text/plain": [
       "22424"
      ]
     },
     "execution_count": 21,
     "metadata": {},
     "output_type": "execute_result"
    }
   ],
   "source": [
    "len(la)"
   ]
  },
  {
   "cell_type": "code",
   "execution_count": 22,
   "metadata": {},
   "outputs": [
    {
     "data": {
      "image/png": "[encoded data removed]",
      "text/plain": [
       "<matplotlib.figure.Figure at 0x28e90676b00>"
      ]
     },
     "metadata": {},
     "output_type": "display_data"
    }
   ],
   "source": [
    "sns.countplot(la)\n",
    "plt.show()\n"
   ]
  },
  {
   "cell_type": "code",
   "execution_count": 23,
   "metadata": {},
   "outputs": [
    {
     "name": "stderr",
     "output_type": "stream",
     "text": [
      "C:\\ProgramData\\Anaconda3\\lib\\site-packages\\ipykernel_launcher.py:8: UserWarning: Update your `Conv2D` call to the Keras 2 API: `Conv2D(32, (3, 3), input_shape=(150, 150,..., activation=\"relu\", padding=\"same\")`\n",
      "  \n",
      "C:\\ProgramData\\Anaconda3\\lib\\site-packages\\ipykernel_launcher.py:9: UserWarning: Update your `Conv2D` call to the Keras 2 API: `Conv2D(32, (3, 3), activation=\"relu\", padding=\"same\")`\n",
      "  if __name__ == '__main__':\n",
      "C:\\ProgramData\\Anaconda3\\lib\\site-packages\\ipykernel_launcher.py:12: UserWarning: Update your `Conv2D` call to the Keras 2 API: `Conv2D(64, (3, 3), activation=\"relu\", padding=\"same\")`\n",
      "  if sys.path[0] == '':\n",
      "C:\\ProgramData\\Anaconda3\\lib\\site-packages\\ipykernel_launcher.py:13: UserWarning: Update your `Conv2D` call to the Keras 2 API: `Conv2D(64, (3, 3), activation=\"relu\", padding=\"same\")`\n",
      "  del sys.path[0]\n",
      "C:\\ProgramData\\Anaconda3\\lib\\site-packages\\ipykernel_launcher.py:16: UserWarning: Update your `Conv2D` call to the Keras 2 API: `Conv2D(128, (3, 3), activation=\"relu\", padding=\"same\")`\n",
      "  app.launch_new_instance()\n",
      "C:\\ProgramData\\Anaconda3\\lib\\site-packages\\ipykernel_launcher.py:17: UserWarning: Update your `Conv2D` call to the Keras 2 API: `Conv2D(128, (3, 3), activation=\"relu\", padding=\"same\")`\n",
      "C:\\ProgramData\\Anaconda3\\lib\\site-packages\\ipykernel_launcher.py:20: UserWarning: Update your `Conv2D` call to the Keras 2 API: `Conv2D(256, (3, 3), activation=\"relu\", padding=\"same\")`\n",
      "C:\\ProgramData\\Anaconda3\\lib\\site-packages\\ipykernel_launcher.py:21: UserWarning: Update your `Conv2D` call to the Keras 2 API: `Conv2D(256, (3, 3), activation=\"relu\", padding=\"same\")`\n",
      "C:\\ProgramData\\Anaconda3\\lib\\site-packages\\ipykernel_launcher.py:22: UserWarning: Update your `Conv2D` call to the Keras 2 API: `Conv2D(256, (3, 3), activation=\"relu\", padding=\"same\")`\n",
      "C:\\ProgramData\\Anaconda3\\lib\\site-packages\\ipykernel_launcher.py:25: UserWarning: Update your `Conv2D` call to the Keras 2 API: `Conv2D(256, (3, 3), activation=\"relu\", padding=\"same\")`\n",
      "C:\\ProgramData\\Anaconda3\\lib\\site-packages\\ipykernel_launcher.py:26: UserWarning: Update your `Conv2D` call to the Keras 2 API: `Conv2D(256, (3, 3), activation=\"relu\", padding=\"same\")`\n",
      "C:\\ProgramData\\Anaconda3\\lib\\site-packages\\ipykernel_launcher.py:27: UserWarning: Update your `Conv2D` call to the Keras 2 API: `Conv2D(256, (3, 3), activation=\"relu\", padding=\"same\")`\n"
     ]
    }
   ],
   "source": [
    "\n",
    "chan =3\n",
    "optimizer = RMSprop(lr=1e-4)\n",
    "objective = 'binary_crossentropy'\n",
    "\n",
    "model = Sequential()\n",
    "\n",
    "model.add(Convolution2D(32, 3, 3, border_mode='same', input_shape=(size,size,chan), activation='relu'))\n",
    "model.add(Convolution2D(32, 3, 3, border_mode='same', activation='relu'))\n",
    "model.add(MaxPooling2D(pool_size=(2, 2)))\n",
    "\n",
    "model.add(Convolution2D(64, 3, 3, border_mode='same', activation='relu'))\n",
    "model.add(Convolution2D(64, 3, 3, border_mode='same', activation='relu'))\n",
    "model.add(MaxPooling2D(pool_size=(2, 2)))\n",
    "\n",
    "model.add(Convolution2D(128, 3, 3, border_mode='same', activation='relu'))\n",
    "model.add(Convolution2D(128, 3, 3, border_mode='same', activation='relu'))\n",
    "model.add(MaxPooling2D(pool_size=(2, 2)))\n",
    "\n",
    "model.add(Convolution2D(256, 3, 3, border_mode='same', activation='relu'))\n",
    "model.add(Convolution2D(256, 3, 3, border_mode='same', activation='relu'))\n",
    "model.add(Convolution2D(256, 3, 3, border_mode='same', activation='relu'))\n",
    "model.add(MaxPooling2D(pool_size=(2, 2)))\n",
    "\n",
    "model.add(Convolution2D(256, 3, 3, border_mode='same', activation='relu'))\n",
    "model.add(Convolution2D(256, 3, 3, border_mode='same', activation='relu'))\n",
    "model.add(Convolution2D(256, 3, 3, border_mode='same', activation='relu'))\n",
    "model.add(MaxPooling2D(pool_size=(2, 2)))\n",
    "\n",
    "model.add(Flatten())\n",
    "model.add(Dense(256, activation='relu'))\n",
    "model.add(Dropout(0.5))\n",
    "\n",
    "model.add(Dense(256, activation='relu'))\n",
    "model.add(Dropout(0.5))\n",
    "\n",
    "model.add(Dense(1))\n",
    "model.add(Activation('sigmoid'))\n",
    "\n",
    "model.compile(loss=objective, optimizer=optimizer, metrics=['accuracy'])"
   ]
  },
  {
   "cell_type": "code",
   "execution_count": 24,
   "metadata": {},
   "outputs": [
    {
     "name": "stderr",
     "output_type": "stream",
     "text": [
      "C:\\ProgramData\\Anaconda3\\lib\\site-packages\\keras\\models.py:848: UserWarning: The `nb_epoch` argument in `fit` has been renamed `epochs`.\n",
      "  warnings.warn('The `nb_epoch` argument in `fit` '\n"
     ]
    },
    {
     "name": "stdout",
     "output_type": "stream",
     "text": [
      "Train on 16818 samples, validate on 5606 samples\n",
      "Epoch 1/2\n",
      "16818/16818 [==============================] - 2632s - loss: 0.4059 - acc: 0.0000e+00 - val_loss: 0.6523 - val_acc: 0.3411\n",
      "Epoch 2/2\n",
      "16818/16818 [==============================] - 2663s - loss: -0.1586 - acc: 0.0000e+00 - val_loss: 0.6146 - val_acc: 0.3411\n"
     ]
    },
    {
     "data": {
      "text/plain": [
       "<keras.callbacks.History at 0x28e91252cc0>"
      ]
     },
     "execution_count": 24,
     "metadata": {},
     "output_type": "execute_result"
    }
   ],
   "source": [
    "nb_epoch = 2\n",
    "batch_size = 16\n",
    "model.fit(X_train, la, batch_size=batch_size, nb_epoch=nb_epoch, validation_split=0.25, verbose=1)"
   ]
  },
  {
   "cell_type": "code",
   "execution_count": 26,
   "metadata": {
    "collapsed": true
   },
   "outputs": [],
   "source": [
    "img = cv2.imread('Desktop/drink.png')\n",
    "img = cv2.resize(img,(size,size))\n",
    "img = np.reshape(img,[1,size,size,chan])\n"
   ]
  },
  {
   "cell_type": "code",
   "execution_count": 27,
   "metadata": {},
   "outputs": [],
   "source": [
    "predictions = model.predict(img, verbose=0)"
   ]
  },
  {
   "cell_type": "code",
   "execution_count": 28,
   "metadata": {},
   "outputs": [
    {
     "name": "stdout",
     "output_type": "stream",
     "text": [
      "[[ 0.38995594]]\n"
     ]
    }
   ],
   "source": [
    "print(predictions)"
   ]
  },
  {
   "cell_type": "code",
   "execution_count": 29,
   "metadata": {
    "collapsed": true
   },
   "outputs": [],
   "source": [
    "#for more accurate results lets try to add some controled noise to our data\n",
    "datagen = ImageDataGenerator(\n",
    "        rotation_range=40,\n",
    "        width_shift_range=0.2,\n",
    "        height_shift_range=0.2,\n",
    "        shear_range=0.2,\n",
    "        zoom_range=0.2,\n",
    "        horizontal_flip=True,\n",
    "        fill_mode='nearest')"
   ]
  },
  {
   "cell_type": "code",
   "execution_count": 30,
   "metadata": {},
   "outputs": [
    {
     "name": "stdout",
     "output_type": "stream",
     "text": [
      "Found 22424 images belonging to 10 classes.\n"
     ]
    }
   ],
   "source": [
    "\n",
    "train_generator = datagen.flow_from_directory(\n",
    "        \"Desktop/statefarm1/train/\",  # this is the target directory\n",
    "        target_size=(size, size),  # all images will be resized to 150x150\n",
    "        batch_size=20,\n",
    "        class_mode='binary')"
   ]
  },
  {
   "cell_type": "code",
   "execution_count": 31,
   "metadata": {},
   "outputs": [
    {
     "name": "stderr",
     "output_type": "stream",
     "text": [
      "C:\\ProgramData\\Anaconda3\\lib\\site-packages\\ipykernel_launcher.py:4: UserWarning: The semantics of the Keras 2 argument `steps_per_epoch` is not the same as the Keras 1 argument `samples_per_epoch`. `steps_per_epoch` is the number of batches to draw from the generator at each epoch. Basically steps_per_epoch = samples_per_epoch/batch_size. Similarly `nb_val_samples`->`validation_steps` and `val_samples`->`steps` arguments have changed. Update your method calls accordingly.\n",
      "  after removing the cwd from sys.path.\n",
      "C:\\ProgramData\\Anaconda3\\lib\\site-packages\\ipykernel_launcher.py:4: UserWarning: Update your `fit_generator` call to the Keras 2 API: `fit_generator(<keras.pre..., steps_per_epoch=125, epochs=20)`\n",
      "  after removing the cwd from sys.path.\n"
     ]
    },
    {
     "name": "stdout",
     "output_type": "stream",
     "text": [
      "Epoch 1/20\n",
      "125/125 [==============================] - 359s - loss: -54.4765 - acc: 0.1008   \n",
      "Epoch 2/20\n",
      "125/125 [==============================] - 358s - loss: -53.3367 - acc: 0.0876   \n",
      "Epoch 3/20\n",
      "125/125 [==============================] - 364s - loss: -51.7425 - acc: 0.1028   \n",
      "Epoch 4/20\n",
      "125/125 [==============================] - 354s - loss: -53.6748 - acc: 0.0940   \n",
      "Epoch 5/20\n",
      "125/125 [==============================] - 351s - loss: -52.2262 - acc: 0.1100   \n",
      "Epoch 6/20\n",
      "125/125 [==============================] - 345s - loss: -52.9096 - acc: 0.0996   \n",
      "Epoch 7/20\n",
      "125/125 [==============================] - 348s - loss: -53.5322 - acc: 0.1020   \n",
      "Epoch 8/20\n",
      "125/125 [==============================] - 348s - loss: -51.4616 - acc: 0.1148   \n",
      "Epoch 9/20\n",
      "125/125 [==============================] - 355s - loss: -53.8763 - acc: 0.0992   \n",
      "Epoch 10/20\n",
      "125/125 [==============================] - 343s - loss: -54.0061 - acc: 0.0988   \n",
      "Epoch 11/20\n",
      "125/125 [==============================] - 344s - loss: -52.4757 - acc: 0.0980   \n",
      "Epoch 12/20\n",
      "125/125 [==============================] - 340s - loss: -54.1467 - acc: 0.0984   \n",
      "Epoch 13/20\n",
      "125/125 [==============================] - 347s - loss: -52.6726 - acc: 0.1008   \n",
      "Epoch 14/20\n",
      "125/125 [==============================] - 351s - loss: -53.8138 - acc: 0.1084   \n",
      "Epoch 15/20\n",
      "125/125 [==============================] - 355s - loss: -53.4193 - acc: 0.1032   \n",
      "Epoch 16/20\n",
      "125/125 [==============================] - 357s - loss: -52.6792 - acc: 0.1032   \n",
      "Epoch 17/20\n",
      "125/125 [==============================] - 346s - loss: -52.1183 - acc: 0.0960   \n",
      "Epoch 18/20\n",
      "125/125 [==============================] - 338s - loss: -52.3348 - acc: 0.1044   \n",
      "Epoch 19/20\n",
      "125/125 [==============================] - 334s - loss: -53.1322 - acc: 0.1000   \n",
      "Epoch 20/20\n",
      "125/125 [==============================] - 333s - loss: -52.9606 - acc: 0.0984   \n"
     ]
    },
    {
     "data": {
      "text/plain": [
       "<keras.callbacks.History at 0x28e92464dd8>"
      ]
     },
     "execution_count": 31,
     "metadata": {},
     "output_type": "execute_result"
    }
   ],
   "source": [
    "batch_size = 16\n",
    "model.fit_generator(\n",
    "        train_generator,steps_per_epoch=2000 // batch_size,\n",
    " nb_epoch=20)\n",
    " "
   ]
  },
  {
   "cell_type": "code",
   "execution_count": 32,
   "metadata": {
    "collapsed": true
   },
   "outputs": [],
   "source": [
    "model.save('alex_modelbigg1.h5')"
   ]
  },
  {
   "cell_type": "code",
   "execution_count": 33,
   "metadata": {
    "collapsed": true
   },
   "outputs": [],
   "source": [
    "model = load_model('alex_modelbigg1.h5')\n",
    "\n",
    "model.compile(loss='binary_crossentropy',\n",
    "              optimizer='rmsprop',\n",
    "              metrics=['accuracy'])"
   ]
  },
  {
   "cell_type": "code",
   "execution_count": null,
   "metadata": {
    "collapsed": true
   },
   "outputs": [],
   "source": [
    "img = cv2.imread('Desktop/drink.png')\n",
    "img = cv2.resize(img,(size,size))\n",
    "img = np.reshape(img,[1,size,size,chan])\n",
    "\n",
    "classes = model.predict(img)"
   ]
  },
  {
   "cell_type": "code",
   "execution_count": null,
   "metadata": {
    "collapsed": true
   },
   "outputs": [],
   "source": []
  }
 ],
 "metadata": {
  "kernelspec": {
   "display_name": "Python 3",
   "language": "python",
   "name": "python3"
  },
  "language_info": {
   "codemirror_mode": {
    "name": "ipython",
    "version": 3
   },
   "file_extension": ".py",
   "mimetype": "text/x-python",
   "name": "python",
   "nbconvert_exporter": "python",
   "pygments_lexer": "ipython3",
   "version": "3.7.0"
  }
 },
 "nbformat": 4,
 "nbformat_minor": 2
}
